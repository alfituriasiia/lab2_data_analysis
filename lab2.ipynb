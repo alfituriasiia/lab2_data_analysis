{
 "cells": [
  {
   "cell_type": "markdown",
   "id": "7e720a59-81f8-4b14-b839-3ba81d237273",
   "metadata": {},
   "source": [
    "Лаб2 "
   ]
  },
  {
   "cell_type": "code",
   "execution_count": 1,
   "id": "0348415a-7bf7-4a8e-9abb-cec39ef796bf",
   "metadata": {},
   "outputs": [
    {
     "name": "stdout",
     "output_type": "stream",
     "text": [
      "Ініціалізація завершена\n"
     ]
    }
   ],
   "source": [
    "import datetime\n",
    "import os\n",
    "import urllib.request\n",
    "import pandas as pd\n",
    "import glob\n",
    "\n",
    "print(\"Ініціалізація завершена\")"
   ]
  },
  {
   "cell_type": "code",
   "execution_count": 2,
   "id": "0c33a3bc-cfef-4675-a727-4ebfd4b0af53",
   "metadata": {},
   "outputs": [],
   "source": [
    "def fetch_vhi_data(region_code, start_year=1981, end_year=2024):\n",
    "    directory = 'dataset'\n",
    "    if not os.path.exists(directory):\n",
    "        os.makedirs(directory)\n",
    "\n",
    "    link = f\"https://www.star.nesdis.noaa.gov/smcd/emb/vci/VH/get_TS_admin.php?country=UKR&provinceID={region_code}&year1={start_year}&year2={end_year}&type=Mean\"\n",
    "    response = urllib.request.urlopen(link)\n",
    "\n",
    "    timestamp = datetime.datetime.now().strftime('%Y-%m-%d_%H-%M')\n",
    "    filename = f'vhi_region_{region_code}_{timestamp}.csv'\n",
    "    file_location = os.path.join(directory, filename)\n",
    "\n",
    "    with open(file_location, 'wb') as f:\n",
    "        f.write(response.read())\n",
    "\n",
    "    print(f\"Файл '{file_location}' успішно збережено\")"
   ]
  },
  {
   "cell_type": "code",
   "execution_count": 3,
   "id": "7ec06fd8-c0de-4b01-8b07-a70461f793f6",
   "metadata": {},
   "outputs": [
    {
     "name": "stdout",
     "output_type": "stream",
     "text": [
      "Файл 'dataset\\vhi_region_1_2025-05-30_22-04.csv' успішно збережено\n",
      "Файл 'dataset\\vhi_region_2_2025-05-30_22-04.csv' успішно збережено\n",
      "Файл 'dataset\\vhi_region_3_2025-05-30_22-04.csv' успішно збережено\n",
      "Файл 'dataset\\vhi_region_4_2025-05-30_22-04.csv' успішно збережено\n",
      "Файл 'dataset\\vhi_region_5_2025-05-30_22-04.csv' успішно збережено\n",
      "Файл 'dataset\\vhi_region_6_2025-05-30_22-04.csv' успішно збережено\n",
      "Файл 'dataset\\vhi_region_7_2025-05-30_22-04.csv' успішно збережено\n",
      "Файл 'dataset\\vhi_region_8_2025-05-30_22-04.csv' успішно збережено\n",
      "Файл 'dataset\\vhi_region_9_2025-05-30_22-04.csv' успішно збережено\n",
      "Файл 'dataset\\vhi_region_10_2025-05-30_22-05.csv' успішно збережено\n",
      "Файл 'dataset\\vhi_region_11_2025-05-30_22-05.csv' успішно збережено\n",
      "Файл 'dataset\\vhi_region_12_2025-05-30_22-05.csv' успішно збережено\n",
      "Файл 'dataset\\vhi_region_13_2025-05-30_22-05.csv' успішно збережено\n",
      "Файл 'dataset\\vhi_region_14_2025-05-30_22-05.csv' успішно збережено\n",
      "Файл 'dataset\\vhi_region_15_2025-05-30_22-05.csv' успішно збережено\n",
      "Файл 'dataset\\vhi_region_16_2025-05-30_22-05.csv' успішно збережено\n",
      "Файл 'dataset\\vhi_region_17_2025-05-30_22-05.csv' успішно збережено\n",
      "Файл 'dataset\\vhi_region_18_2025-05-30_22-05.csv' успішно збережено\n",
      "Файл 'dataset\\vhi_region_19_2025-05-30_22-05.csv' успішно збережено\n",
      "Файл 'dataset\\vhi_region_20_2025-05-30_22-05.csv' успішно збережено\n",
      "Файл 'dataset\\vhi_region_21_2025-05-30_22-05.csv' успішно збережено\n",
      "Файл 'dataset\\vhi_region_22_2025-05-30_22-05.csv' успішно збережено\n",
      "Файл 'dataset\\vhi_region_23_2025-05-30_22-05.csv' успішно збережено\n",
      "Файл 'dataset\\vhi_region_24_2025-05-30_22-05.csv' успішно збережено\n",
      "Файл 'dataset\\vhi_region_25_2025-05-30_22-05.csv' успішно збережено\n"
     ]
    }
   ],
   "source": [
    "for region in range(1, 26):\n",
    "    fetch_vhi_data(region)"
   ]
  },
  {
   "cell_type": "code",
   "execution_count": 4,
   "id": "a812f57f-9500-4bec-b737-469b2dbf223f",
   "metadata": {},
   "outputs": [],
   "source": [
    "regions = {\n",
    "    1: 'Вінницька', 2: 'Волинська', 3: 'Дніпропетровська', 4: 'Донецька', 5: 'Житомирська',\n",
    "    6: 'Закарпатська', 7: 'Запорізька', 8: 'Івано-Франківська', 9: 'Київська', 10: 'Кіровоградська',\n",
    "    11: 'Луганська', 12: 'Львівська', 13: 'Миколаївська', 14: 'Одеська', 15: 'Полтавська',\n",
    "    16: 'Рівненська', 17: 'Сумська', 18: 'Тернопільська', 19: 'Харківська', 20: 'Херсонська',\n",
    "    21: 'Хмельницька', 22: 'Черкаська', 23: 'Чернівецька', 24: 'Чернігівська', 25: 'Республіка Крим'\n",
    "}"
   ]
  },
  {
   "cell_type": "code",
   "execution_count": 5,
   "id": "b9fd464d-a35b-4cfd-abea-8697c6922a4d",
   "metadata": {},
   "outputs": [],
   "source": [
    "def compile_dataframe(path):\n",
    "    \"\"\"Об'єднання всіх CSV у єдиний DataFrame\"\"\"\n",
    "    files = glob.glob(path + \"/*.csv\")\n",
    "    columns = ['Year', 'Week', 'SMN', 'SMT', 'VCI', 'TCI', 'VHI', 'extra']\n",
    "    data_frames = []\n",
    "\n",
    "    for file in files:\n",
    "        parts = file.split('_')\n",
    "        if len(parts) < 3:\n",
    "            continue\n",
    "        reg_id = int(parts[2])\n",
    "\n",
    "        df = pd.read_csv(file, header=1, names=columns)\n",
    "        df.at[0, 'Year'] = df.at[0, 'Year'][9:]\n",
    "        df = df.drop(df.index[-1])\n",
    "        df = df.drop(df[df['VHI'] == -1].index)\n",
    "        df = df.drop('extra', axis=1)\n",
    "        df.insert(0, 'region_code', reg_id, True)\n",
    "        df['Week'] = df['Week'].astype(int)\n",
    "        data_frames.append(df)\n",
    "\n",
    "    final_df = pd.concat(data_frames).drop_duplicates().reset_index(drop=True)\n",
    "    return final_df"
   ]
  },
  {
   "cell_type": "code",
   "execution_count": 6,
   "id": "47eabb61-6b54-44e9-8d5c-509a8946166d",
   "metadata": {},
   "outputs": [
    {
     "name": "stdout",
     "output_type": "stream",
     "text": [
      "       region_code  Year  Week    SMN     SMT    VCI    TCI    VHI\n",
      "0               10  1982     1  0.059  258.24  51.11  48.78  49.95\n",
      "1               10  1982     2  0.063  261.53  55.89  38.20  47.04\n",
      "2               10  1982     3  0.063  263.45  57.30  32.69  44.99\n",
      "3               10  1982     4  0.061  265.10  53.96  28.62  41.29\n",
      "4               10  1982     5  0.058  266.42  46.87  28.57  37.72\n",
      "...            ...   ...   ...    ...     ...    ...    ...    ...\n",
      "54645            9  2024    48  0.135  278.17  55.23  11.86  33.55\n",
      "54646            9  2024    49  0.133  277.08  57.71  10.86  34.29\n",
      "54647            9  2024    50  0.130  276.49  59.45   8.68  34.07\n",
      "54648            9  2024    51  0.128  276.45  62.53   5.55  34.04\n",
      "54649            9  2024    52  0.129  276.48  66.13   3.71  34.92\n",
      "\n",
      "[54650 rows x 8 columns]\n"
     ]
    }
   ],
   "source": [
    "vhi_dataframe = compile_dataframe('dataset')\n",
    "\n",
    "print(vhi_dataframe)"
   ]
  },
  {
   "cell_type": "code",
   "execution_count": 7,
   "id": "6371502e-0399-4293-b6c7-532ee141bd8c",
   "metadata": {},
   "outputs": [],
   "source": [
    "def analyze_region(region_code, data, period=(\"1982\", \"2024\")):\n",
    "    \"\"\"Аналіз мінімального та максимального VHI для області\"\"\"\n",
    "    subset = data[(data[\"Year\"].between(period[0], period[1])) & (data['region_code'] == region_code)]\n",
    "    region_name = regions[region_code]\n",
    "    max_vhi = subset[\"VHI\"].max()\n",
    "    min_vhi = subset[\"VHI\"].min()\n",
    "    print(f\"Область {region_name}: min {min_vhi}, max {max_vhi}\")"
   ]
  },
  {
   "cell_type": "code",
   "execution_count": 8,
   "id": "c68bca02-9c7d-4336-8fc3-c57a01f4d36a",
   "metadata": {},
   "outputs": [
    {
     "name": "stdout",
     "output_type": "stream",
     "text": [
      "Область Вінницька: min 10.68, max 83.7\n",
      "Область Волинська: min 15.17, max 80.65\n",
      "Область Дніпропетровська: min 15.16, max 74.92\n",
      "Область Донецька: min 13.28, max 90.96\n",
      "Область Житомирська: min 17.58, max 93.17\n",
      "Область Закарпатська: min 6.26, max 96.18\n",
      "Область Запорізька: min 18.98, max 73.35\n",
      "Область Івано-Франківська: min 9.36, max 91.42\n",
      "Область Київська: min 12.23, max 90.61\n",
      "Область Кіровоградська: min 18.41, max 79.4\n",
      "Область Луганська: min 10.6, max 80.88\n",
      "Область Львівська: min 6.49, max 76.84\n",
      "Область Миколаївська: min 16.36, max 84.52\n",
      "Область Одеська: min 12.45, max 90.32\n",
      "Область Полтавська: min 18.31, max 69.96\n",
      "Область Рівненська: min 5.94, max 92.31\n",
      "Область Сумська: min 5.52, max 89.14\n",
      "Область Тернопільська: min 15.68, max 85.14\n",
      "Область Харківська: min 20.7, max 77.45\n",
      "Область Херсонська: min 8.14, max 76.94\n",
      "Область Хмельницька: min 12.64, max 81.96\n",
      "Область Черкаська: min 19.45, max 77.71\n",
      "Область Чернівецька: min 15.8, max 72.59\n",
      "Область Чернігівська: min 11.25, max 82.64\n",
      "Область Республіка Крим: min 11.91, max 78.32\n"
     ]
    }
   ],
   "source": [
    "for region in range(1, 26):\n",
    "    analyze_region(region, vhi_dataframe)"
   ]
  },
  {
   "cell_type": "code",
   "execution_count": 9,
   "id": "de0a1dd0-a3c5-4721-b4f2-b00b6f81cfcf",
   "metadata": {},
   "outputs": [
    {
     "name": "stdout",
     "output_type": "stream",
     "text": [
      "Екстремальна посуха: {'2000': (6, 24.0), '2007': (4, 16.0)}\n",
      "Помірна посуха: {'2000': (25, 100.0), '2001': (11, 44.0), '2002': (10, 40.0), '2003': (12, 48.0), '2004': (3, 12.0), '2005': (6, 24.0), '2006': (12, 48.0), '2007': (14, 56.0), '2008': (14, 56.0), '2009': (14, 56.0), '2010': (13, 52.0), '2011': (17, 68.0), '2012': (12, 48.0), '2013': (16, 64.0), '2014': (10, 40.0), '2015': (22, 88.0), '2016': (14, 56.0), '2017': (10, 40.0), '2018': (14, 56.0), '2019': (24, 96.0), '2020': (16, 64.0), '2021': (10, 40.0), '2022': (6, 24.0), '2023': (19, 76.0), '2024': (15, 60.0)}\n"
     ]
    }
   ],
   "source": [
    "def detect_drought_years(data, threshold, drought_type, start=None, end=None):\n",
    "    \"\"\"Пошук років із сильною або середньою посухою\"\"\"\n",
    "    if start is not None:\n",
    "        data = data[data['Year'] >= start]\n",
    "    if end is not None:\n",
    "        data = data[data['Year'] <= end]\n",
    "\n",
    "    drought_stats = {}\n",
    "    grouped = data.groupby('Year')\n",
    "\n",
    "    for year, group in grouped:\n",
    "        total_regions = len(group['region_code'].unique())\n",
    "\n",
    "        if drought_type == \"extreme\":\n",
    "            affected = group[group['VHI'] < 15]['region_code'].nunique()\n",
    "        elif drought_type == \"moderate\":\n",
    "            affected = group[(group['VHI'] > 15) & (group['VHI'] < 35)]['region_code'].nunique()\n",
    "\n",
    "        if affected / total_regions > threshold / 100:\n",
    "            drought_stats[year] = (affected, round((affected / total_regions) * 100, 2))\n",
    "\n",
    "    return drought_stats\n",
    "\n",
    "extreme_droughts = detect_drought_years(vhi_dataframe, 10, \"extreme\", start='2000', end='2024')\n",
    "print(\"Екстремальна посуха:\", extreme_droughts)\n",
    "\n",
    "moderate_droughts = detect_drought_years(vhi_dataframe, 10, \"moderate\", start='2000', end='2024')\n",
    "print(\"Помірна посуха:\", moderate_droughts)"
   ]
  }
 ],
 "metadata": {
  "kernelspec": {
   "display_name": "Python 3 (ipykernel)",
   "language": "python",
   "name": "python3"
  },
  "language_info": {
   "codemirror_mode": {
    "name": "ipython",
    "version": 3
   },
   "file_extension": ".py",
   "mimetype": "text/x-python",
   "name": "python",
   "nbconvert_exporter": "python",
   "pygments_lexer": "ipython3",
   "version": "3.13.3"
  }
 },
 "nbformat": 4,
 "nbformat_minor": 5
}
